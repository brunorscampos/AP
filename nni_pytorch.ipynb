{
 "cells": [
  {
   "cell_type": "code",
   "execution_count": 15,
   "metadata": {},
   "outputs": [
    {
     "ename": "ValueError",
     "evalue": "RetiariiExeConfig: type of experiment_name ('mnist_search') is not typing.Optional[str]",
     "output_type": "error",
     "traceback": [
      "\u001b[1;31m---------------------------------------------------------------------------\u001b[0m",
      "\u001b[1;31mValueError\u001b[0m                                Traceback (most recent call last)",
      "\u001b[1;32mc:\\Users\\Campos\\Desktop\\uni\\AP\\AP\\test.ipynb Cell 1\u001b[0m in \u001b[0;36m<cell line: 141>\u001b[1;34m()\u001b[0m\n\u001b[0;32m    <a href='vscode-notebook-cell:/c%3A/Users/Campos/Desktop/uni/AP/AP/test.ipynb#W0sZmlsZQ%3D%3D?line=134'>135</a>\u001b[0m export_formatter \u001b[39m=\u001b[39m \u001b[39m'\u001b[39m\u001b[39mdict\u001b[39m\u001b[39m'\u001b[39m\n\u001b[0;32m    <a href='vscode-notebook-cell:/c%3A/Users/Campos/Desktop/uni/AP/AP/test.ipynb#W0sZmlsZQ%3D%3D?line=136'>137</a>\u001b[0m \u001b[39m# uncomment this for graph-based execution engine\u001b[39;00m\n\u001b[0;32m    <a href='vscode-notebook-cell:/c%3A/Users/Campos/Desktop/uni/AP/AP/test.ipynb#W0sZmlsZQ%3D%3D?line=137'>138</a>\u001b[0m \u001b[39m# exp_config.execution_engine = 'base'\u001b[39;00m\n\u001b[0;32m    <a href='vscode-notebook-cell:/c%3A/Users/Campos/Desktop/uni/AP/AP/test.ipynb#W0sZmlsZQ%3D%3D?line=138'>139</a>\u001b[0m \u001b[39m# export_formatter = 'code'\u001b[39;00m\n\u001b[1;32m--> <a href='vscode-notebook-cell:/c%3A/Users/Campos/Desktop/uni/AP/AP/test.ipynb#W0sZmlsZQ%3D%3D?line=140'>141</a>\u001b[0m exp\u001b[39m.\u001b[39;49mrun(exp_config, \u001b[39m8080\u001b[39;49m)\n\u001b[0;32m    <a href='vscode-notebook-cell:/c%3A/Users/Campos/Desktop/uni/AP/AP/test.ipynb#W0sZmlsZQ%3D%3D?line=141'>142</a>\u001b[0m \u001b[39mprint\u001b[39m(\u001b[39m'\u001b[39m\u001b[39mFinal model:\u001b[39m\u001b[39m'\u001b[39m)\n\u001b[0;32m    <a href='vscode-notebook-cell:/c%3A/Users/Campos/Desktop/uni/AP/AP/test.ipynb#W0sZmlsZQ%3D%3D?line=142'>143</a>\u001b[0m \u001b[39mfor\u001b[39;00m model_code \u001b[39min\u001b[39;00m exp\u001b[39m.\u001b[39mexport_top_models(formatter\u001b[39m=\u001b[39mexport_formatter):\n",
      "File \u001b[1;32md:\\Anaconda\\lib\\site-packages\\nni\\nas\\experiment\\pytorch.py:283\u001b[0m, in \u001b[0;36mRetiariiExperiment.run\u001b[1;34m(self, config, port, debug)\u001b[0m\n\u001b[0;32m    281\u001b[0m \u001b[39melse\u001b[39;00m:\n\u001b[0;32m    282\u001b[0m     ws_url \u001b[39m=\u001b[39m \u001b[39mf\u001b[39m\u001b[39m'\u001b[39m\u001b[39mws://localhost:\u001b[39m\u001b[39m{\u001b[39;00mport\u001b[39m}\u001b[39;00m\u001b[39m/tuner\u001b[39m\u001b[39m'\u001b[39m\n\u001b[1;32m--> 283\u001b[0m     canoni_conf \u001b[39m=\u001b[39m \u001b[39mself\u001b[39;49m\u001b[39m.\u001b[39;49m_start_impl(port, debug, RunMode\u001b[39m.\u001b[39;49mBackground, ws_url, [\u001b[39m'\u001b[39;49m\u001b[39mretiarii\u001b[39;49m\u001b[39m'\u001b[39;49m])\n\u001b[0;32m    284\u001b[0m     canoni_conf \u001b[39m=\u001b[39m cast(RetiariiExeConfig, canoni_conf)\n\u001b[0;32m    285\u001b[0m     \u001b[39mself\u001b[39m\u001b[39m.\u001b[39m_dispatcher \u001b[39m=\u001b[39m RetiariiAdvisor(ws_url)\n",
      "File \u001b[1;32md:\\Anaconda\\lib\\site-packages\\nni\\experiment\\experiment.py:94\u001b[0m, in \u001b[0;36mExperiment._start_impl\u001b[1;34m(self, port, debug, run_mode, tuner_command_channel, tags)\u001b[0m\n\u001b[0;32m     91\u001b[0m \u001b[39mif\u001b[39;00m run_mode \u001b[39mis\u001b[39;00m \u001b[39mnot\u001b[39;00m RunMode\u001b[39m.\u001b[39mDetach:\n\u001b[0;32m     92\u001b[0m     atexit\u001b[39m.\u001b[39mregister(\u001b[39mself\u001b[39m\u001b[39m.\u001b[39mstop)\n\u001b[1;32m---> 94\u001b[0m config \u001b[39m=\u001b[39m \u001b[39mself\u001b[39;49m\u001b[39m.\u001b[39;49mconfig\u001b[39m.\u001b[39;49mcanonical_copy()\n\u001b[0;32m     95\u001b[0m \u001b[39mif\u001b[39;00m config\u001b[39m.\u001b[39muse_annotation:\n\u001b[0;32m     96\u001b[0m     \u001b[39mraise\u001b[39;00m \u001b[39mRuntimeError\u001b[39;00m(\u001b[39m'\u001b[39m\u001b[39mNNI annotation is not supported by Python experiment API.\u001b[39m\u001b[39m'\u001b[39m)\n",
      "File \u001b[1;32md:\\Anaconda\\lib\\site-packages\\nni\\experiment\\config\\base.py:167\u001b[0m, in \u001b[0;36mConfigBase.canonical_copy\u001b[1;34m(self)\u001b[0m\n\u001b[0;32m    165\u001b[0m canon \u001b[39m=\u001b[39m copy\u001b[39m.\u001b[39mdeepcopy(\u001b[39mself\u001b[39m)\n\u001b[0;32m    166\u001b[0m canon\u001b[39m.\u001b[39m_canonicalize([])\n\u001b[1;32m--> 167\u001b[0m canon\u001b[39m.\u001b[39;49m_validate_canonical()\n\u001b[0;32m    168\u001b[0m \u001b[39mreturn\u001b[39;00m canon\n",
      "File \u001b[1;32md:\\Anaconda\\lib\\site-packages\\nni\\experiment\\config\\experiment_config.py:155\u001b[0m, in \u001b[0;36mExperimentConfig._validate_canonical\u001b[1;34m(self)\u001b[0m\n\u001b[0;32m    154\u001b[0m \u001b[39mdef\u001b[39;00m \u001b[39m_validate_canonical\u001b[39m(\u001b[39mself\u001b[39m):\n\u001b[1;32m--> 155\u001b[0m     \u001b[39msuper\u001b[39;49m()\u001b[39m.\u001b[39;49m_validate_canonical()\n\u001b[0;32m    157\u001b[0m     space_cnt \u001b[39m=\u001b[39m (\u001b[39mself\u001b[39m\u001b[39m.\u001b[39msearch_space \u001b[39mis\u001b[39;00m \u001b[39mnot\u001b[39;00m \u001b[39mNone\u001b[39;00m) \u001b[39m+\u001b[39m (\u001b[39mself\u001b[39m\u001b[39m.\u001b[39msearch_space_file \u001b[39mis\u001b[39;00m \u001b[39mnot\u001b[39;00m \u001b[39mNone\u001b[39;00m)\n\u001b[0;32m    158\u001b[0m     \u001b[39mif\u001b[39;00m \u001b[39mself\u001b[39m\u001b[39m.\u001b[39muse_annotation \u001b[39mand\u001b[39;00m space_cnt \u001b[39m!=\u001b[39m \u001b[39m0\u001b[39m:\n",
      "File \u001b[1;32md:\\Anaconda\\lib\\site-packages\\nni\\experiment\\config\\base.py:237\u001b[0m, in \u001b[0;36mConfigBase._validate_canonical\u001b[1;34m(self)\u001b[0m\n\u001b[0;32m    224\u001b[0m \u001b[39mdef\u001b[39;00m \u001b[39m_validate_canonical\u001b[39m(\u001b[39mself\u001b[39m):\n\u001b[0;32m    225\u001b[0m     \u001b[39m\"\"\"\u001b[39;00m\n\u001b[0;32m    226\u001b[0m \u001b[39m    To be overrided by subclass.\u001b[39;00m\n\u001b[0;32m    227\u001b[0m \n\u001b[1;32m   (...)\u001b[0m\n\u001b[0;32m    235\u001b[0m \u001b[39m    2. Call ``_validate_canonical()`` on children config objects, including those inside list and dict\u001b[39;00m\n\u001b[0;32m    236\u001b[0m \u001b[39m    \"\"\"\u001b[39;00m\n\u001b[1;32m--> 237\u001b[0m     utils\u001b[39m.\u001b[39;49mvalidate_type(\u001b[39mself\u001b[39;49m)\n\u001b[0;32m    238\u001b[0m     \u001b[39mfor\u001b[39;00m field \u001b[39min\u001b[39;00m utils\u001b[39m.\u001b[39mfields(\u001b[39mself\u001b[39m):\n\u001b[0;32m    239\u001b[0m         value \u001b[39m=\u001b[39m \u001b[39mgetattr\u001b[39m(\u001b[39mself\u001b[39m, field\u001b[39m.\u001b[39mname)\n",
      "File \u001b[1;32md:\\Anaconda\\lib\\site-packages\\nni\\experiment\\config\\utils\\internal.py:106\u001b[0m, in \u001b[0;36mvalidate_type\u001b[1;34m(config)\u001b[0m\n\u001b[0;32m    104\u001b[0m     \u001b[39mraise\u001b[39;00m \u001b[39mValueError\u001b[39;00m(\u001b[39mf\u001b[39m\u001b[39m'\u001b[39m\u001b[39m{\u001b[39;00mclass_name\u001b[39m}\u001b[39;00m\u001b[39m: \u001b[39m\u001b[39m{\u001b[39;00mfield\u001b[39m.\u001b[39mname\u001b[39m}\u001b[39;00m\u001b[39m is not set\u001b[39m\u001b[39m'\u001b[39m)\n\u001b[0;32m    105\u001b[0m \u001b[39mif\u001b[39;00m \u001b[39mnot\u001b[39;00m is_instance(value, field\u001b[39m.\u001b[39mtype):\n\u001b[1;32m--> 106\u001b[0m     \u001b[39mraise\u001b[39;00m \u001b[39mValueError\u001b[39;00m(\u001b[39mf\u001b[39m\u001b[39m'\u001b[39m\u001b[39m{\u001b[39;00mclass_name\u001b[39m}\u001b[39;00m\u001b[39m: type of \u001b[39m\u001b[39m{\u001b[39;00mfield\u001b[39m.\u001b[39mname\u001b[39m}\u001b[39;00m\u001b[39m (\u001b[39m\u001b[39m{\u001b[39;00m\u001b[39mrepr\u001b[39m(value)\u001b[39m}\u001b[39;00m\u001b[39m) is not \u001b[39m\u001b[39m{\u001b[39;00mfield\u001b[39m.\u001b[39mtype\u001b[39m}\u001b[39;00m\u001b[39m'\u001b[39m)\n",
      "\u001b[1;31mValueError\u001b[0m: RetiariiExeConfig: type of experiment_name ('mnist_search') is not typing.Optional[str]"
     ]
    }
   ],
   "source": [
    "import torch\n",
    "import torch.nn.functional as F\n",
    "import nni.retiarii.nn.pytorch as nn\n",
    "from nni.retiarii import model_wrapper\n",
    "\n",
    "class DepthwiseSeparableConv(nn.Module):\n",
    "    def __init__(self, in_ch, out_ch):\n",
    "        super().__init__()\n",
    "        self.depthwise = nn.Conv2d(in_ch, in_ch, kernel_size=3, groups=in_ch)\n",
    "        self.pointwise = nn.Conv2d(in_ch, out_ch, kernel_size=1)\n",
    "\n",
    "    def forward(self, x):\n",
    "        return self.pointwise(self.depthwise(x))\n",
    "\n",
    "\n",
    "@model_wrapper\n",
    "class ModelSpace(nn.Module):\n",
    "    def __init__(self):\n",
    "        super().__init__()\n",
    "        self.conv1 = nn.Conv2d(1, 32, 3, 1)\n",
    "        # LayerChoice is used to select a layer between Conv2d and DwConv.\n",
    "        self.conv2 = nn.LayerChoice([\n",
    "            nn.Conv2d(32, 64, 3, 1),\n",
    "            DepthwiseSeparableConv(32, 64)\n",
    "        ])\n",
    "        # ValueChoice is used to select a dropout rate.\n",
    "        # ValueChoice can be used as parameter of modules wrapped in `nni.retiarii.nn.pytorch`\n",
    "        # or customized modules wrapped with `@basic_unit`.\n",
    "        self.dropout1 = nn.Dropout(nn.ValueChoice([0.25, 0.5, 0.75]))  # choose dropout rate from 0.25, 0.5 and 0.75\n",
    "        self.dropout2 = nn.Dropout(0.5)\n",
    "        feature = nn.ValueChoice([64, 128, 256])\n",
    "        self.fc1 = nn.Linear(9216, feature)\n",
    "        self.fc2 = nn.Linear(feature, 10)\n",
    "\n",
    "    def forward(self, x):\n",
    "        x = F.relu(self.conv1(x))\n",
    "        x = F.max_pool2d(self.conv2(x), 2)\n",
    "        x = torch.flatten(self.dropout1(x), 1)\n",
    "        x = self.fc2(self.dropout2(F.relu(self.fc1(x))))\n",
    "        output = F.log_softmax(x, dim=1)\n",
    "        return output\n",
    "\n",
    "\n",
    "model_space = ModelSpace()\n",
    "model_space"
   ]
  },
  {
   "cell_type": "code",
   "execution_count": null,
   "metadata": {},
   "outputs": [],
   "source": [
    "import nni.retiarii.strategy as strategy\n",
    "search_strategy = strategy.Random(dedup=True)  # dedup=False if deduplication is not wanted"
   ]
  },
  {
   "cell_type": "code",
   "execution_count": null,
   "metadata": {},
   "outputs": [],
   "source": [
    "import nni\n",
    "\n",
    "from torchvision import transforms\n",
    "from torchvision.datasets import MNIST\n",
    "from torch.utils.data import DataLoader\n",
    "\n",
    "\n",
    "def train_epoch(model, device, train_loader, optimizer, epoch):\n",
    "    loss_fn = torch.nn.CrossEntropyLoss()\n",
    "    model.train()\n",
    "    for batch_idx, (data, target) in enumerate(train_loader):\n",
    "        data, target = data.to(device), target.to(device)\n",
    "        optimizer.zero_grad()\n",
    "        output = model(data)\n",
    "        loss = loss_fn(output, target)\n",
    "        loss.backward()\n",
    "        optimizer.step()\n",
    "        if batch_idx % 10 == 0:\n",
    "            print('Train Epoch: {} [{}/{} ({:.0f}%)]\\tLoss: {:.6f}'.format(\n",
    "                epoch, batch_idx * len(data), len(train_loader.dataset),\n",
    "                100. * batch_idx / len(train_loader), loss.item()))\n",
    "\n",
    "\n",
    "def test_epoch(model, device, test_loader):\n",
    "    model.eval()\n",
    "    test_loss = 0\n",
    "    correct = 0\n",
    "    with torch.no_grad():\n",
    "        for data, target in test_loader:\n",
    "            data, target = data.to(device), target.to(device)\n",
    "            output = model(data)\n",
    "            pred = output.argmax(dim=1, keepdim=True)\n",
    "            correct += pred.eq(target.view_as(pred)).sum().item()\n",
    "\n",
    "    test_loss /= len(test_loader.dataset)\n",
    "    accuracy = 100. * correct / len(test_loader.dataset)\n",
    "\n",
    "    print('\\nTest set: Accuracy: {}/{} ({:.0f}%)\\n'.format(\n",
    "          correct, len(test_loader.dataset), accuracy))\n",
    "\n",
    "    return accuracy\n",
    "\n",
    "\n",
    "def evaluate_model(model_cls):\n",
    "    # \"model_cls\" is a class, need to instantiate\n",
    "    model = model_cls()\n",
    "\n",
    "    device = torch.device('cuda') if torch.cuda.is_available() else torch.device('cpu')\n",
    "    model.to(device)\n",
    "\n",
    "    optimizer = torch.optim.Adam(model.parameters(), lr=1e-3)\n",
    "    transf = transforms.Compose([transforms.ToTensor(), transforms.Normalize((0.1307,), (0.3081,))])\n",
    "    train_loader = DataLoader(MNIST('data/mnist', download=True, transform=transf), batch_size=64, shuffle=True)\n",
    "    test_loader = DataLoader(MNIST('data/mnist', download=True, train=False, transform=transf), batch_size=64)\n",
    "\n",
    "    for epoch in range(3):\n",
    "        # train the model for one epoch\n",
    "        train_epoch(model, device, train_loader, optimizer, epoch)\n",
    "        # test the model for one epoch\n",
    "        accuracy = test_epoch(model, device, test_loader)\n",
    "        # call report intermediate result. Result can be float or dict\n",
    "        nni.report_intermediate_result(accuracy)\n",
    "\n",
    "    # report final test result\n",
    "    nni.report_final_result(accuracy)"
   ]
  },
  {
   "cell_type": "code",
   "execution_count": null,
   "metadata": {},
   "outputs": [],
   "source": [
    "from nni.retiarii.evaluator import FunctionalEvaluator\n",
    "evaluator = FunctionalEvaluator(evaluate_model)"
   ]
  },
  {
   "cell_type": "code",
   "execution_count": null,
   "metadata": {},
   "outputs": [],
   "source": [
    "from nni.retiarii.experiment.pytorch import RetiariiExperiment, RetiariiExeConfig\n",
    "exp = RetiariiExperiment(model_space, evaluator, [], search_strategy)\n",
    "exp_config = RetiariiExeConfig('local')\n",
    "exp_config.experiment_name = 'mnist_search'"
   ]
  },
  {
   "cell_type": "code",
   "execution_count": null,
   "metadata": {},
   "outputs": [],
   "source": [
    "exp_config.max_trial_number = 4   # spawn 4 trials at most\n",
    "exp_config.trial_concurrency = 2  # will run two trials concurrently"
   ]
  },
  {
   "cell_type": "code",
   "execution_count": null,
   "metadata": {},
   "outputs": [],
   "source": [
    "exp_config.trial_gpu_number = 1\n",
    "exp_config.training_service.use_active_gpu = True"
   ]
  },
  {
   "cell_type": "code",
   "execution_count": null,
   "metadata": {},
   "outputs": [],
   "source": [
    "exp.run(exp_config, 8081)"
   ]
  },
  {
   "cell_type": "code",
   "execution_count": null,
   "metadata": {},
   "outputs": [],
   "source": [
    "import os\n",
    "from pathlib import Path\n",
    "\n",
    "\n",
    "def evaluate_model_with_visualization(model_cls):\n",
    "    model = model_cls()\n",
    "    # dump the model into an onnx\n",
    "    if 'NNI_OUTPUT_DIR' in os.environ:\n",
    "        dummy_input = torch.zeros(1, 3, 32, 32)\n",
    "        torch.onnx.export(model, (dummy_input, ),\n",
    "                          Path(os.environ['NNI_OUTPUT_DIR']) / 'model.onnx')\n",
    "    evaluate_model(model_cls)"
   ]
  },
  {
   "cell_type": "code",
   "execution_count": null,
   "metadata": {},
   "outputs": [],
   "source": [
    "for model_dict in exp.export_top_models(formatter='dict'):\n",
    "    print(model_dict)"
   ]
  }
 ],
 "metadata": {
  "kernelspec": {
   "display_name": "base",
   "language": "python",
   "name": "python3"
  },
  "language_info": {
   "codemirror_mode": {
    "name": "ipython",
    "version": 3
   },
   "file_extension": ".py",
   "mimetype": "text/x-python",
   "name": "python",
   "nbconvert_exporter": "python",
   "pygments_lexer": "ipython3",
   "version": "3.9.16"
  },
  "orig_nbformat": 4
 },
 "nbformat": 4,
 "nbformat_minor": 2
}
